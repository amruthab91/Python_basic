{
  "nbformat": 4,
  "nbformat_minor": 0,
  "metadata": {
    "colab": {
      "provenance": [],
      "authorship_tag": "ABX9TyNfguMT7oGcv2R5QaedFVdL"
    },
    "kernelspec": {
      "name": "python3",
      "display_name": "Python 3"
    },
    "language_info": {
      "name": "python"
    }
  },
  "cells": [
    {
      "cell_type": "code",
      "source": [
        "3+10"
      ],
      "metadata": {
        "colab": {
          "base_uri": "https://localhost:8080/"
        },
        "id": "n9-EcU5e2Rqu",
        "outputId": "c77c9ca1-9287-48be-8a60-48ed0a260c55"
      },
      "execution_count": null,
      "outputs": [
        {
          "output_type": "execute_result",
          "data": {
            "text/plain": [
              "13"
            ]
          },
          "metadata": {},
          "execution_count": 1
        }
      ]
    },
    {
      "cell_type": "code",
      "source": [
        "a=2\n",
        "b=5\n",
        "print(a)\n",
        "print(b)\n",
        "print('value of a=',a)\n",
        "print('value of b=',b)\n",
        "print(a+b)\n",
        "c=a\n",
        "print('c=',c)\n"
      ],
      "metadata": {
        "colab": {
          "base_uri": "https://localhost:8080/"
        },
        "id": "si4J0Q2J8iWz",
        "outputId": "52652b33-8060-46b2-814a-a3ac6fd38fcd"
      },
      "execution_count": null,
      "outputs": [
        {
          "output_type": "stream",
          "name": "stdout",
          "text": [
            "2\n",
            "5\n",
            "value of a= 2\n",
            "value of b= 5\n",
            "7\n",
            "c= 2\n"
          ]
        }
      ]
    },
    {
      "cell_type": "code",
      "execution_count": null,
      "metadata": {
        "colab": {
          "base_uri": "https://localhost:8080/"
        },
        "id": "gXa_0VlQ13Qs",
        "outputId": "d82e7326-f288-413b-a0f3-143f16dd59f7"
      },
      "outputs": [
        {
          "output_type": "stream",
          "name": "stdout",
          "text": [
            "9\n"
          ]
        }
      ],
      "source": [
        "print(4+5)"
      ]
    },
    {
      "cell_type": "code",
      "source": [
        "print('5+6')"
      ],
      "metadata": {
        "colab": {
          "base_uri": "https://localhost:8080/"
        },
        "id": "3F_CMkk57Lup",
        "outputId": "54c215d0-320e-46d7-afaf-3120e50adca8"
      },
      "execution_count": null,
      "outputs": [
        {
          "output_type": "stream",
          "name": "stdout",
          "text": [
            "5+6\n"
          ]
        }
      ]
    },
    {
      "cell_type": "code",
      "source": [
        "'4'+str(10)"
      ],
      "metadata": {
        "colab": {
          "base_uri": "https://localhost:8080/",
          "height": 35
        },
        "id": "royAdJqj76UD",
        "outputId": "e7ea8799-8a51-42e2-abe6-83a0c3abcc82"
      },
      "execution_count": null,
      "outputs": [
        {
          "output_type": "execute_result",
          "data": {
            "text/plain": [
              "'410'"
            ],
            "application/vnd.google.colaboratory.intrinsic+json": {
              "type": "string"
            }
          },
          "metadata": {},
          "execution_count": 5
        }
      ]
    },
    {
      "cell_type": "code",
      "source": [
        "'4'+'10'"
      ],
      "metadata": {
        "colab": {
          "base_uri": "https://localhost:8080/",
          "height": 35
        },
        "id": "0S7HyiA48LJM",
        "outputId": "42fe6dac-a872-4813-9746-72e22bf84e97"
      },
      "execution_count": null,
      "outputs": [
        {
          "output_type": "execute_result",
          "data": {
            "text/plain": [
              "'410'"
            ],
            "application/vnd.google.colaboratory.intrinsic+json": {
              "type": "string"
            }
          },
          "metadata": {},
          "execution_count": 6
        }
      ]
    },
    {
      "cell_type": "code",
      "source": [
        "print('A\\nB\\nC')\n",
        "print('A\\tB')\n",
        "print('WDG\\bY')\n",
        "print('A\\aB\\aCD')\n",
        "print('1\\a2\\a34\\a5')"
      ],
      "metadata": {
        "colab": {
          "base_uri": "https://localhost:8080/"
        },
        "id": "dTafvkTg-4pf",
        "outputId": "71b1744c-d098-45e0-8410-918ee6f8321f"
      },
      "execution_count": null,
      "outputs": [
        {
          "output_type": "stream",
          "name": "stdout",
          "text": [
            "A\n",
            "B\n",
            "C\n",
            "A\tB\n",
            "WDG\bY\n",
            "A\u0007B\u0007CD\n",
            "1\u00072\u000734\u00075\n"
          ]
        }
      ]
    },
    {
      "cell_type": "code",
      "source": [
        "## calculator\n",
        "#num1 = int(a)\n",
        "a=int(input(\"enter the first number=\"))\n",
        "#num2 = int(b)\n",
        "b=int(input(\"enter the second number=\"))\n",
        "\n",
        "operation = input(\"select the operation:+,-,*,/\")\n",
        "\n",
        "if operation == '+':\n",
        "  result = a+b\n",
        "elif operation == '-':\n",
        "  result = a-b\n",
        "elif operation == '*':\n",
        "  result = a*b\n",
        "elif operation == '/':\n",
        "  result = a/b\n",
        "print(\"ans=\", result)\n",
        "\n"
      ],
      "metadata": {
        "colab": {
          "base_uri": "https://localhost:8080/"
        },
        "id": "hNftYJn1_eae",
        "outputId": "3bb80d85-c66c-4090-ff50-e19f4c100648"
      },
      "execution_count": null,
      "outputs": [
        {
          "output_type": "stream",
          "name": "stdout",
          "text": [
            "enter the first number=5\n",
            "enter the second number=6\n",
            "select the operation:+,-,*,/*\n",
            "ans= 30\n"
          ]
        }
      ]
    },
    {
      "cell_type": "code",
      "source": [
        "list1 = [1,2,3,4,5,]\n",
        "print(list1[3])\n",
        "print(list1[1:4])"
      ],
      "metadata": {
        "colab": {
          "base_uri": "https://localhost:8080/"
        },
        "id": "U3LDCfR0ArTw",
        "outputId": "b98bbf70-bf89-4a3b-d379-9a3f6c620364"
      },
      "execution_count": null,
      "outputs": [
        {
          "output_type": "stream",
          "name": "stdout",
          "text": [
            "4\n",
            "[2, 3, 4]\n"
          ]
        }
      ]
    },
    {
      "cell_type": "code",
      "source": [
        "a= list(range(10))\n",
        "print(a)\n",
        "print(a[2:8:2])"
      ],
      "metadata": {
        "colab": {
          "base_uri": "https://localhost:8080/"
        },
        "id": "JHHEfR7hChRw",
        "outputId": "247653e4-5181-4257-ddfe-30bf9cd54dd2"
      },
      "execution_count": null,
      "outputs": [
        {
          "output_type": "stream",
          "name": "stdout",
          "text": [
            "[0, 1, 2, 3, 4, 5, 6, 7, 8, 9]\n",
            "[2, 4, 6]\n"
          ]
        }
      ]
    },
    {
      "cell_type": "code",
      "source": [
        "b=list(range(10,100,20))\n",
        "b"
      ],
      "metadata": {
        "colab": {
          "base_uri": "https://localhost:8080/"
        },
        "id": "r5YdjqBtDGnR",
        "outputId": "c51186ad-f0a6-4741-809a-8675086d9137"
      },
      "execution_count": null,
      "outputs": [
        {
          "output_type": "execute_result",
          "data": {
            "text/plain": [
              "[10, 30, 50, 70, 90]"
            ]
          },
          "metadata": {},
          "execution_count": 11
        }
      ]
    },
    {
      "cell_type": "code",
      "source": [
        "print('enter 2 numbers to divide')\n",
        "d1 = int(input('1st number:'))\n",
        "d2 = int(input('2nd number:'))\n",
        "if d2!=0:\n",
        "  print(d1,'/',d2,'=',d1/d2)"
      ],
      "metadata": {
        "colab": {
          "base_uri": "https://localhost:8080/"
        },
        "id": "CKnsFZ49IJnc",
        "outputId": "24384b98-c722-479a-daa1-e6ad1fe43dd2"
      },
      "execution_count": null,
      "outputs": [
        {
          "output_type": "stream",
          "name": "stdout",
          "text": [
            "enter 2 numbers to divide\n",
            "1st number:6\n",
            "2nd number:3\n",
            "6 / 3 = 2.0\n"
          ]
        }
      ]
    },
    {
      "cell_type": "code",
      "source": [
        "num = int(input(\"please enter an int in range 0...999:\"))\n",
        "\n",
        "if num < 0:\n",
        "  num = 0\n",
        "  print('smaller than the range')\n",
        "\n",
        "if num > 999:\n",
        "  num = 999\n",
        "  print('larger than the range')\n",
        "\n",
        "print(num)"
      ],
      "metadata": {
        "colab": {
          "base_uri": "https://localhost:8080/"
        },
        "id": "Nb8JTZx5IeWb",
        "outputId": "fc4b11f0-4872-40e2-c518-095246edede0"
      },
      "execution_count": null,
      "outputs": [
        {
          "output_type": "stream",
          "name": "stdout",
          "text": [
            "please enter an int in range 0...999:555\n",
            "555\n"
          ]
        }
      ]
    },
    {
      "cell_type": "code",
      "source": [
        "#range\n",
        "\n",
        "for x in range(3,8,2):\n",
        "  print(\"X:\", x)"
      ],
      "metadata": {
        "id": "yWpyvoprKQ2b",
        "colab": {
          "base_uri": "https://localhost:8080/"
        },
        "outputId": "a69738ea-7e3f-468c-fc7e-8d1059355432"
      },
      "execution_count": null,
      "outputs": [
        {
          "output_type": "stream",
          "name": "stdout",
          "text": [
            "X: 3\n",
            "X: 5\n",
            "X: 7\n"
          ]
        }
      ]
    },
    {
      "cell_type": "code",
      "source": [
        "for x in range(2,10,3):\n",
        "  print(\"X:\", x)"
      ],
      "metadata": {
        "colab": {
          "base_uri": "https://localhost:8080/"
        },
        "id": "e8XKNPMs3DIo",
        "outputId": "17ba17a4-8687-4cc1-f0c5-1024019ae89e"
      },
      "execution_count": null,
      "outputs": [
        {
          "output_type": "stream",
          "name": "stdout",
          "text": [
            "X: 2\n",
            "X: 5\n",
            "X: 8\n"
          ]
        }
      ]
    },
    {
      "cell_type": "code",
      "source": [
        "for x in range(-2,10,3):\n",
        "  print(\"X:\", x)"
      ],
      "metadata": {
        "colab": {
          "base_uri": "https://localhost:8080/"
        },
        "id": "KOx26Ege8QnF",
        "outputId": "c867bfa1-021b-4a7d-b17f-a90e86113352"
      },
      "execution_count": null,
      "outputs": [
        {
          "output_type": "stream",
          "name": "stdout",
          "text": [
            "X: -2\n",
            "X: 1\n",
            "X: 4\n",
            "X: 7\n"
          ]
        }
      ]
    },
    {
      "cell_type": "code",
      "source": [
        "# indefinite loop\n",
        "\n",
        "total = 10\n",
        "while(total >= 0):\n",
        "  print(\"value of variable is:\", total)\n",
        "  total = total -2;\n",
        "print(\"out of loop\")"
      ],
      "metadata": {
        "colab": {
          "base_uri": "https://localhost:8080/"
        },
        "id": "Cq23sq5S2dD_",
        "outputId": "3c1c07d6-a6d0-439d-886b-0eb0e0f4a925"
      },
      "execution_count": null,
      "outputs": [
        {
          "output_type": "stream",
          "name": "stdout",
          "text": [
            "value of variable is: 10\n",
            "value of variable is: 8\n",
            "value of variable is: 6\n",
            "value of variable is: 4\n",
            "value of variable is: 2\n",
            "value of variable is: 0\n",
            "out of loop\n"
          ]
        }
      ]
    },
    {
      "cell_type": "code",
      "source": [
        "total = 10\n",
        "while(total >= 0):\n",
        "  print(\"value of variable is:\", total)\n",
        "  break;\n",
        "print(\"out of loop\")"
      ],
      "metadata": {
        "colab": {
          "base_uri": "https://localhost:8080/"
        },
        "id": "9KkPTci_BUha",
        "outputId": "813e008d-acc8-49d7-f97e-265986f4a62e"
      },
      "execution_count": null,
      "outputs": [
        {
          "output_type": "stream",
          "name": "stdout",
          "text": [
            "value of variable is: 10\n",
            "out of loop\n"
          ]
        }
      ]
    },
    {
      "cell_type": "code",
      "source": [
        "#interactive while loop\n",
        "\n",
        "mySum = 0\n",
        "myCount = 0\n",
        "\n",
        "while(True):\n",
        "  newInput = float(input(\"enter the number\"))\n",
        "  myCount = myCount+1;\n",
        "  mySum = mySum+newInput;\n",
        "  ask = input(\"do u want to continue? (Y/N)\")\n",
        "  if(ask==\"Y\" or ask==\"y\"):\n",
        "    continue;\n",
        "  else:\n",
        "    break;\n",
        "\n",
        "print(\"total values entered:\", myCount)\n",
        "print(\"Sum:\",mySum)\n",
        "print(\"Average:\", mySum/myCount)"
      ],
      "metadata": {
        "colab": {
          "base_uri": "https://localhost:8080/"
        },
        "id": "dutHc54x28z4",
        "outputId": "794e37cd-7ebf-406b-aa32-328802417e07"
      },
      "execution_count": null,
      "outputs": [
        {
          "output_type": "stream",
          "name": "stdout",
          "text": [
            "enter the number10\n",
            "do u want to continue? (Y/N)y\n",
            "enter the number5\n",
            "do u want to continue? (Y/N)Y\n",
            "enter the number6\n",
            "do u want to continue? (Y/N)n\n",
            "total values entered: 3\n",
            "Sum: 21.0\n",
            "Average: 7.0\n"
          ]
        }
      ]
    },
    {
      "cell_type": "code",
      "source": [
        "#nested loops\n",
        "\n",
        "for num in range(5):\n",
        "  for i in range(num):\n",
        "    print(num,end='') #print number\n",
        "  print(\"\\n\") #new line"
      ],
      "metadata": {
        "colab": {
          "base_uri": "https://localhost:8080/"
        },
        "id": "Q31TbEKV5K3L",
        "outputId": "acea0a95-f94b-4aee-99b7-cee5170bf0d0"
      },
      "execution_count": null,
      "outputs": [
        {
          "output_type": "stream",
          "name": "stdout",
          "text": [
            "\n",
            "\n",
            "1\n",
            "\n",
            "22\n",
            "\n",
            "333\n",
            "\n",
            "4444\n",
            "\n"
          ]
        }
      ]
    },
    {
      "cell_type": "code",
      "source": [
        "# nested loop by changing the ranges\n",
        "\n",
        "\"\"\"\n",
        "for num in range(2,8,2):\n",
        "  for i in range(num):\n",
        "    print(num,end='') #print number\n",
        "  print(\"\\n\") #new line\n",
        "\"\"\"\n",
        "for num in range(2,8):\n",
        "  for i in range(num):\n",
        "    print(num,end='') #print number\n",
        "  print(\"\\n\") #new line\n"
      ],
      "metadata": {
        "colab": {
          "base_uri": "https://localhost:8080/"
        },
        "id": "Th7Yt8OLFJI1",
        "outputId": "64c2283e-19e9-45db-ec8d-e21f37844254"
      },
      "execution_count": null,
      "outputs": [
        {
          "output_type": "stream",
          "name": "stdout",
          "text": [
            "22\n",
            "\n",
            "333\n",
            "\n",
            "4444\n",
            "\n",
            "55555\n",
            "\n",
            "666666\n",
            "\n",
            "7777777\n",
            "\n"
          ]
        }
      ]
    },
    {
      "cell_type": "code",
      "source": [
        "Friends = [\"ABC\",\"DEF\",\"GHI\",\"JKL\"]\n",
        "\n",
        "for myfriend in Friends:\n",
        "  print(\"Happy New Year\",myfriend)\n"
      ],
      "metadata": {
        "colab": {
          "base_uri": "https://localhost:8080/"
        },
        "id": "mqd9NgbE-b5u",
        "outputId": "84c91ec0-d632-439b-9d5f-43aac031e141"
      },
      "execution_count": null,
      "outputs": [
        {
          "output_type": "stream",
          "name": "stdout",
          "text": [
            "Happy New Year ABC\n",
            "Happy New Year DEF\n",
            "Happy New Year GHI\n",
            "Happy New Year JKL\n"
          ]
        }
      ]
    },
    {
      "cell_type": "code",
      "source": [
        "#nested loops for recording temp and average\n",
        "\n",
        "days=[\"sun\",\"mon\",\"tue\",\"wed\"]\n",
        "sun_temp=[6,7,8,9]\n",
        "mon_temp=[2,3,4,5]\n",
        "tue_temp=[5,6,7,8]\n",
        "wed_temp=[6,7,8,9]\n",
        "\n",
        "for day in days:\n",
        "  print(\"temp for day\", day, \"is recorded as:\")\n",
        "  avgTemp=0.0;\n",
        "  count = 0.0;\n",
        "\n",
        "  if(day == \"sun\"):\n",
        "    for temp in sun_temp:\n",
        "      print(temp)\n",
        "      avgTemp=avgTemp+temp;\n",
        "      count = count+1;\n",
        "\n",
        "  elif (day == \"mon\"):\n",
        "    for temp in mon_temp:\n",
        "      print(temp)\n",
        "      avgTemp=avgTemp+temp;\n",
        "      count = count+1;\n",
        "\n",
        "  elif (day == \"tue\"):\n",
        "    for temp in tue_temp:\n",
        "      print(temp)\n",
        "      avgTemp=avgTemp+temp;\n",
        "      count = count+1;\n",
        "\n",
        "  elif (day == \"wed\"):\n",
        "    for temp in wed_temp:\n",
        "      print(temp)\n",
        "      avgTemp=avgTemp+temp;\n",
        "      count = count+1;\n",
        "  print(\"avg is:\", avgTemp/count)\n",
        "print(\"out of loop\")\n"
      ],
      "metadata": {
        "colab": {
          "base_uri": "https://localhost:8080/"
        },
        "id": "3xghbSF17RPz",
        "outputId": "67b195b7-f6e6-4c6c-f92c-754412c51c6f"
      },
      "execution_count": null,
      "outputs": [
        {
          "output_type": "stream",
          "name": "stdout",
          "text": [
            "temp for day sun is recorded as:\n",
            "6\n",
            "7\n",
            "8\n",
            "9\n",
            "avg is: 7.5\n",
            "temp for day mon is recorded as:\n",
            "2\n",
            "3\n",
            "4\n",
            "5\n",
            "avg is: 3.5\n",
            "temp for day tue is recorded as:\n",
            "5\n",
            "6\n",
            "7\n",
            "8\n",
            "avg is: 6.5\n",
            "temp for day wed is recorded as:\n",
            "6\n",
            "7\n",
            "8\n",
            "9\n",
            "avg is: 7.5\n",
            "out of loop\n"
          ]
        }
      ]
    },
    {
      "cell_type": "code",
      "source": [
        "def hello():\n",
        "  print ('hello')\n",
        "  print ('class')\n",
        "\n",
        "print (\"start\")\n",
        "print(\"goin to call \")\n",
        "hello()"
      ],
      "metadata": {
        "colab": {
          "base_uri": "https://localhost:8080/"
        },
        "id": "KXAtcfAYMuJD",
        "outputId": "9637c035-4580-49fc-b6f9-39ea57277339"
      },
      "execution_count": null,
      "outputs": [
        {
          "output_type": "stream",
          "name": "stdout",
          "text": [
            "start\n",
            "goin to call \n",
            "hello\n",
            "class\n"
          ]
        }
      ]
    },
    {
      "cell_type": "code",
      "source": [
        "def greet(name_of_student):\n",
        "  print(\"Hello\", name_of_student,\"\\t Happy Valentines!\")\n",
        "\n",
        "greet(\"Annie\")"
      ],
      "metadata": {
        "colab": {
          "base_uri": "https://localhost:8080/"
        },
        "id": "wchUH-VePOzL",
        "outputId": "648471c4-645d-47ad-dae7-8f9026e9cce3"
      },
      "execution_count": null,
      "outputs": [
        {
          "output_type": "stream",
          "name": "stdout",
          "text": [
            "Hello Annie \t Happy Valentines!\n"
          ]
        }
      ]
    },
    {
      "cell_type": "code",
      "source": [
        "# task 1\n",
        "\"\"\"From a provided list of 100 students and their marks for the \"Intelligent Systems\" subject, your task is to categorize these students into specific academic classes based on their performance.\n",
        "\n",
        "Using the .append() method, create category lists for the following classes:\n",
        "\n",
        "Failed: Include students who have scored less than 33 marks.\n",
        "Third Class: Include students who have scored more than 33 marks but less than or equal to 50.\n",
        "Second Class: Include students who have scored more than 50 marks but less than or equal to 65.\n",
        "First Class: Include students who have scored more than 65 marks but less than or equal to 75.\n",
        "Distinction: Include students who have scored more than 75 marks.\n",
        "\"\"\"\n",
        "\n",
        "students=['Alice', 'Bob', 'Charlie', 'David', 'Emma', 'Frank', 'Grace', 'Hannah', 'Ian', 'Jack', 'Katie', 'Liam', 'Mia', 'Noah', 'Olivia', 'Penelope', 'Quincy', 'Ryan', 'Sophia', 'Taylor', 'Uma', 'Violet', 'William', 'Xander', 'Yasmine', 'Zachary', 'Ava', 'Benjamin', 'Catherine', 'Daniel', 'Ella', 'Finn', 'Gabriella', 'Harrison', 'Isabella', 'Jacob', 'Kylie', 'Luna', 'Matthew', 'Nora', 'Oscar', 'Piper', 'Quinn', 'Riley', 'Samuel', 'Tessa', 'Ulysses', 'Victoria', 'Winston', 'Ximena', 'Yara', 'Zane', 'Aria', 'Brooklyn', 'Caleb', 'Delilah', 'Ethan', 'Fiona', 'Grace', 'Henry', 'Isabelle', 'Julian', 'Katelyn', 'Liam', 'Madeline', 'Nathan', 'Olivia', 'Peter', 'Quinn', 'Rebecca', 'Sophia', 'Thomas', 'Ursula', 'Vivian', 'William', 'Xander', 'Yasmine', 'Zachary', 'Ava', 'Benjamin', 'Catherine', 'Daniel', 'Ella', 'Finn', 'Gabriella', 'Harrison', 'Isabella', 'Jacob', 'Kylie', 'Luna', 'Matthew', 'Nora', 'Oscar', 'Piper', 'Quinn']\n",
        "marks=[65, 75, 66, 80, 23, 77, 78, 82, 74, 63, 53, 41, 70, 52, 97, 29, 68, 76, 79, 68, 39, 21, 93, 42, 77, 22, 70, 47, 70, 98, 84, 86, 56, 24, 54, 24, 92, 27, 93, 43, 37, 63, 77, 40, 31, 60, 45, 42, 29, 55, 38, 32, 37, 94, 96, 46, 72, 65, 99, 29, 80, 21, 27, 79, 91, 78, 20, 52, 91, 34, 99, 91, 45, 91, 22, 46, 68, 88, 60, 28, 61, 100, 35, 95, 34, 53, 52, 70, 64, 99, 58, 67, 31, 89, 75]\n",
        "\n",
        "len(students)\n",
        "len(marks)\n",
        "\n",
        "first_class=[]\n",
        "second_class=[]\n",
        "third_class=[]\n",
        "distinction=[]\n",
        "failed=[]\n",
        "\n",
        "for i in range(len(students)):\n",
        "  student = students[i]\n",
        "  mark = marks[i]\n",
        "  if (marks[i]<33):\n",
        "    failed.append(student)\n",
        "  elif (marks[i] >= 33 and marks[i] <=50):\n",
        "    third_class.append(student)\n",
        "  elif(marks[i] >50 and marks[i]<=65):\n",
        "    second_class.append(student)\n",
        "  elif(marks[i]>65 and marks[i]<=75):\n",
        "    first_class.append(student)\n",
        "  elif(marks[i]>75):\n",
        "    distinction.append(student)\n",
        "\n",
        "print(\"Failed:\")\n",
        "print(failed)\n",
        "\n",
        "print(\"\\nThird Class:\")\n",
        "print(third_class)\n",
        "\n",
        "print(\"\\nSecond Class:\")\n",
        "print(second_class)\n",
        "\n",
        "print(\"\\nFirst Class:\")\n",
        "print(first_class)\n",
        "\n",
        "print(\"\\nDistinction:\")\n",
        "print(distinction)\n"
      ],
      "metadata": {
        "colab": {
          "base_uri": "https://localhost:8080/"
        },
        "id": "4K-u5Li8PzBD",
        "outputId": "f2cbd91f-518a-4823-bbdd-ff76371287d8"
      },
      "execution_count": 3,
      "outputs": [
        {
          "output_type": "stream",
          "name": "stdout",
          "text": [
            "Failed:\n",
            "['Emma', 'Penelope', 'Violet', 'Zachary', 'Harrison', 'Jacob', 'Luna', 'Samuel', 'Winston', 'Zane', 'Henry', 'Julian', 'Katelyn', 'Olivia', 'William', 'Benjamin', 'Oscar']\n",
            "\n",
            "Third Class:\n",
            "['Liam', 'Uma', 'Xander', 'Benjamin', 'Nora', 'Oscar', 'Riley', 'Ulysses', 'Victoria', 'Yara', 'Aria', 'Delilah', 'Rebecca', 'Ursula', 'Xander', 'Ella', 'Gabriella']\n",
            "\n",
            "Second Class:\n",
            "['Alice', 'Jack', 'Katie', 'Noah', 'Gabriella', 'Isabella', 'Piper', 'Tessa', 'Ximena', 'Fiona', 'Peter', 'Ava', 'Catherine', 'Harrison', 'Isabella', 'Kylie', 'Matthew']\n",
            "\n",
            "First Class:\n",
            "['Bob', 'Charlie', 'Ian', 'Mia', 'Quincy', 'Taylor', 'Ava', 'Catherine', 'Ethan', 'Yasmine', 'Jacob', 'Nora', 'Quinn']\n",
            "\n",
            "Distinction:\n",
            "['David', 'Frank', 'Grace', 'Hannah', 'Olivia', 'Ryan', 'Sophia', 'William', 'Yasmine', 'Daniel', 'Ella', 'Finn', 'Kylie', 'Matthew', 'Quinn', 'Brooklyn', 'Caleb', 'Grace', 'Isabelle', 'Liam', 'Madeline', 'Nathan', 'Quinn', 'Sophia', 'Thomas', 'Vivian', 'Zachary', 'Daniel', 'Finn', 'Luna', 'Piper']\n"
          ]
        }
      ]
    },
    {
      "cell_type": "code",
      "source": [
        "students=['Alice', 'Bob', 'Charlie', 'David', 'Emma', 'Frank', 'Grace', 'Hannah', 'Ian', 'Jack', 'Katie', 'Liam', 'Mia', 'Noah', 'Olivia', 'Penelope', 'Quincy', 'Ryan', 'Sophia', 'Taylor', 'Uma', 'Violet', 'William', 'Xander', 'Yasmine', 'Zachary', 'Ava', 'Benjamin', 'Catherine', 'Daniel', 'Ella', 'Finn', 'Gabriella', 'Harrison', 'Isabella', 'Jacob', 'Kylie', 'Luna', 'Matthew', 'Nora', 'Oscar', 'Piper', 'Quinn', 'Riley', 'Samuel', 'Tessa', 'Ulysses', 'Victoria', 'Winston', 'Ximena', 'Yara', 'Zane', 'Aria', 'Brooklyn', 'Caleb', 'Delilah', 'Ethan', 'Fiona', 'Grace', 'Henry', 'Isabelle', 'Julian', 'Katelyn', 'Liam', 'Madeline', 'Nathan', 'Olivia', 'Peter', 'Quinn', 'Rebecca', 'Sophia', 'Thomas', 'Ursula', 'Vivian', 'William', 'Xander', 'Yasmine', 'Zachary', 'Ava', 'Benjamin', 'Catherine', 'Daniel', 'Ella', 'Finn', 'Gabriella', 'Harrison', 'Isabella', 'Jacob', 'Kylie', 'Luna', 'Matthew', 'Nora', 'Oscar', 'Piper', 'Quinn']\n",
        "marks=[65, 75, 66, 80, 23, 77, 78, 82, 74, 63, 53, 41, 70, 52, 97, 29, 68, 76, 79, 68, 39, 21, 93, 42, 77, 22, 70, 47, 70, 98, 84, 86, 56, 24, 54, 24, 92, 27, 93, 43, 37, 63, 77, 40, 31, 60, 45, 42, 29, 55, 38, 32, 37, 94, 96, 46, 72, 65, 99, 29, 80, 21, 27, 79, 91, 78, 20, 52, 91, 34, 99, 91, 45, 91, 22, 46, 68, 88, 60, 28, 61, 100, 35, 95, 34, 53, 52, 70, 64, 99, 58, 67, 31, 89, 75]\n",
        "\n",
        "def marks_students(students, marks):\n",
        "    failed = []\n",
        "    third_class = []\n",
        "    second_class = []\n",
        "    first_class = []\n",
        "    distinction = []\n",
        "    for i in range(len(students)):\n",
        "      student = students[i]\n",
        "      mark = marks[i]\n",
        "      if (marks[i]<33):\n",
        "        failed.append(student)\n",
        "      elif (marks[i] >= 33 and marks[i] <=50):\n",
        "        third_class.append(student)\n",
        "      elif(marks[i] >50 and marks[i]<=65):\n",
        "        second_class.append(student)\n",
        "      elif(marks[i]>65 and marks[i]<=75):\n",
        "        first_class.append(student)\n",
        "      elif(marks[i]>75):\n",
        "        distinction.append(student)\n",
        "    return {\n",
        "        \"Failed\": failed,\n",
        "        \"Third Class\": third_class,\n",
        "        \"Second Class\": second_class,\n",
        "        \"First Class\": first_class,\n",
        "        \"Distinction\": distinction\n",
        "    }\n",
        "result = marks_students(students, marks)\n",
        "\n",
        "\n",
        "for category, students in result.items():\n",
        "    print(f\"{category}: {students}\")\n",
        "\n",
        "\n"
      ],
      "metadata": {
        "colab": {
          "base_uri": "https://localhost:8080/"
        },
        "id": "oMMScPxmqWCD",
        "outputId": "8c359d36-4eba-45cf-bc4f-95be0d0186e2"
      },
      "execution_count": 5,
      "outputs": [
        {
          "output_type": "stream",
          "name": "stdout",
          "text": [
            "Failed: ['Emma', 'Penelope', 'Violet', 'Zachary', 'Harrison', 'Jacob', 'Luna', 'Samuel', 'Winston', 'Zane', 'Henry', 'Julian', 'Katelyn', 'Olivia', 'William', 'Benjamin', 'Oscar']\n",
            "Third Class: ['Liam', 'Uma', 'Xander', 'Benjamin', 'Nora', 'Oscar', 'Riley', 'Ulysses', 'Victoria', 'Yara', 'Aria', 'Delilah', 'Rebecca', 'Ursula', 'Xander', 'Ella', 'Gabriella']\n",
            "Second Class: ['Alice', 'Jack', 'Katie', 'Noah', 'Gabriella', 'Isabella', 'Piper', 'Tessa', 'Ximena', 'Fiona', 'Peter', 'Ava', 'Catherine', 'Harrison', 'Isabella', 'Kylie', 'Matthew']\n",
            "First Class: ['Bob', 'Charlie', 'Ian', 'Mia', 'Quincy', 'Taylor', 'Ava', 'Catherine', 'Ethan', 'Yasmine', 'Jacob', 'Nora', 'Quinn']\n",
            "Distinction: ['David', 'Frank', 'Grace', 'Hannah', 'Olivia', 'Ryan', 'Sophia', 'William', 'Yasmine', 'Daniel', 'Ella', 'Finn', 'Kylie', 'Matthew', 'Quinn', 'Brooklyn', 'Caleb', 'Grace', 'Isabelle', 'Liam', 'Madeline', 'Nathan', 'Quinn', 'Sophia', 'Thomas', 'Vivian', 'Zachary', 'Daniel', 'Finn', 'Luna', 'Piper']\n"
          ]
        }
      ]
    }
  ]
}