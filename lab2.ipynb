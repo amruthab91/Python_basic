{
  "nbformat": 4,
  "nbformat_minor": 0,
  "metadata": {
    "colab": {
      "provenance": [],
      "authorship_tag": "ABX9TyMa3gToIqi8Ns0I4nVn/zuc"
    },
    "kernelspec": {
      "name": "python3",
      "display_name": "Python 3"
    },
    "language_info": {
      "name": "python"
    }
  },
  "cells": [
    {
      "cell_type": "code",
      "execution_count": 15,
      "metadata": {
        "colab": {
          "base_uri": "https://localhost:8080/"
        },
        "id": "rgppInimwmdT",
        "outputId": "7e7cdf80-1a17-4f95-ec77-76570e195678"
      },
      "outputs": [
        {
          "output_type": "stream",
          "name": "stdout",
          "text": [
            "maximum number is: 90\n",
            "minimum number is: 10\n",
            "average of the numbers is: 50.0\n",
            "median of the numbers: 50\n"
          ]
        }
      ],
      "source": [
        "from re import X\n",
        "'''\n",
        "max\n",
        "min\n",
        "avg\n",
        "median\n",
        "'''\n",
        "import statistics\n",
        "\n",
        "numbers=[10,20,30,40,50,60,70,80,90]\n",
        "\n",
        "def max_num():\n",
        "  x=max(numbers)\n",
        "  print(\"maximum number is:\",x)\n",
        "\n",
        "def min_num():\n",
        "  y=min(numbers)\n",
        "  print(\"minimum number is:\",y)\n",
        "\n",
        "def avg_num():\n",
        "  z=sum(numbers)/len(numbers)\n",
        "  print(\"average of the numbers is:\",z)\n",
        "\n",
        "def med_num():\n",
        "  w=statistics.median(numbers)\n",
        "  print(\"median of the numbers:\",w)\n",
        "\n",
        "\n",
        "max_num()\n",
        "min_num()\n",
        "avg_num()\n",
        "med_num()\n"
      ]
    },
    {
      "cell_type": "code",
      "source": [
        "\n",
        "\n",
        "numbers=[37, 29, 53, 44, 88, 65, 75, 66, 80, 23]\n",
        "\n",
        "def max_num():\n",
        "  x1=numbers[0]\n",
        "  for n in numbers[1:]:\n",
        "    if n > x1:\n",
        "      x1=n\n",
        "\n",
        "  print(\"maximum number is:\",x1)\n",
        "\n",
        "def min_num():\n",
        "  y1=numbers[0]\n",
        "  for n in numbers[1:]:\n",
        "    if n < y1:\n",
        "      y1=n\n",
        "  print(\"minimum number is:\",y1)\n",
        "\n",
        "def avg_num():\n",
        "  z1=sum(numbers)/len(numbers)\n",
        "  print(\"average of the numbers is:\",z1)\n",
        "\n",
        "def med_num():\n",
        "  p=len(numbers)\n",
        "  if p%2==0:\n",
        "    m1=numbers[p//2]\n",
        "    m2=numbers[p//2-1]\n",
        "    m = (m1+m2)/2\n",
        "  else:\n",
        "    m = numbers[p//2]\n",
        "  print(\"median of the numbers:\",m)\n",
        "\n",
        "\n",
        "max_num()\n",
        "min_num()\n",
        "avg_num()\n",
        "med_num()"
      ],
      "metadata": {
        "colab": {
          "base_uri": "https://localhost:8080/"
        },
        "id": "5WN09SrK9Kqv",
        "outputId": "0f48144b-b37f-49b2-8585-93bbd7d542d0"
      },
      "execution_count": 23,
      "outputs": [
        {
          "output_type": "stream",
          "name": "stdout",
          "text": [
            "maximum number is: 88\n",
            "minimum number is: 23\n",
            "average of the numbers is: 56.0\n",
            "median of the numbers: 76.5\n"
          ]
        }
      ]
    }
  ]
}